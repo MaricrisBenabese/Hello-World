{
  "cells": [
    {
      "cell_type": "markdown",
      "metadata": {
        "id": "view-in-github",
        "colab_type": "text"
      },
      "source": [
        "<a href=\"https://colab.research.google.com/github/MaricrisBenabese/Hello-World/blob/main/Mortgage_.ipynb\" target=\"_parent\"><img src=\"https://colab.research.google.com/assets/colab-badge.svg\" alt=\"Open In Colab\"/></a>"
      ]
    },
    {
      "cell_type": "code",
      "source": [
        "def EMI (P,r,n):\n",
        "  monthly_installment = P * (r*(1+r)**n)/((1+r)**n-1)\n",
        "  return monthly_installment"
      ],
      "metadata": {
        "id": "bjZUpLjpMWhq"
      },
      "execution_count": 3,
      "outputs": []
    },
    {
      "cell_type": "code",
      "source": [
        "#solution 1\n",
        "EMI(400000,0.03/12,30*12)"
      ],
      "metadata": {
        "colab": {
          "base_uri": "https://localhost:8080/"
        },
        "id": "B6mcBpmxNIL6",
        "outputId": "5c01f264-e2ad-48e6-8a5a-2ee3325d75f9"
      },
      "execution_count": 4,
      "outputs": [
        {
          "output_type": "execute_result",
          "data": {
            "text/plain": [
              "1686.4161349178237"
            ]
          },
          "metadata": {},
          "execution_count": 4
        }
      ]
    },
    {
      "cell_type": "code",
      "source": [
        "#solution 2\n",
        "EMI(400000,0.06/12,30*12)"
      ],
      "metadata": {
        "colab": {
          "base_uri": "https://localhost:8080/"
        },
        "id": "ORSCpNFJNo7r",
        "outputId": "96721b99-23b8-4f28-c36d-6565cee39da1"
      },
      "execution_count": 5,
      "outputs": [
        {
          "output_type": "execute_result",
          "data": {
            "text/plain": [
              "2398.2021006110276"
            ]
          },
          "metadata": {},
          "execution_count": 5
        }
      ]
    }
  ],
  "metadata": {
    "colab": {
      "name": "Mortgage .ipynb",
      "provenance": [],
      "authorship_tag": "ABX9TyMyXiR2yi2Xqgri/aHXpttt",
      "include_colab_link": true
    },
    "kernelspec": {
      "display_name": "Python 3",
      "name": "python3"
    },
    "language_info": {
      "name": "python"
    }
  },
  "nbformat": 4,
  "nbformat_minor": 0
}